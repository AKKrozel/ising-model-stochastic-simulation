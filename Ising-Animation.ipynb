{
 "cells": [
  {
   "cell_type": "markdown",
   "id": "0706cb62",
   "metadata": {},
   "source": [
    "# Ising Model Animation"
   ]
  },
  {
   "cell_type": "code",
   "execution_count": 216,
   "id": "153de0a2",
   "metadata": {},
   "outputs": [],
   "source": [
    "import numpy as np\n",
    "import matplotlib.pyplot as plt\n",
    "import os\n",
    "import cv2\n",
    "import imageio\n",
    "import pandas as pd\n",
    "from matplotlib.colors import LinearSegmentedColormap\n",
    "import matplotlib.animation as animation\n",
    "from matplotlib.gridspec import GridSpec\n",
    "from matplotlib.patches import Patch\n",
    "import subprocess"
   ]
  },
  {
   "cell_type": "code",
   "execution_count": 217,
   "id": "fc555034",
   "metadata": {},
   "outputs": [],
   "source": [
    "x_pixels = 200\n",
    "y_pixels = 200\n",
    "\n",
    "data1 = pd.read_csv(r'FILL_IN')\n",
    "data2 = pd.read_csv(r'FILL_IN')"
   ]
  },
  {
   "cell_type": "markdown",
   "id": "fd8020a1",
   "metadata": {},
   "source": [
    "### Frame of animation"
   ]
  },
  {
   "cell_type": "code",
   "execution_count": 218,
   "id": "72373a15",
   "metadata": {},
   "outputs": [
    {
     "data": {
      "image/png": "[encoded data removed]",
      "text/plain": [
       "<Figure size 500x200 with 2 Axes>"
      ]
     },
     "metadata": {},
     "output_type": "display_data"
    }
   ],
   "source": [
    "DPI = 100\n",
    "x_pixels, y_pixels = data1.shape[1], data1.shape[0]\n",
    "width_inch = x_pixels / DPI\n",
    "height_inch = y_pixels / DPI\n",
    "\n",
    "fig = plt.figure(figsize=(width_inch * 2 + 1, height_inch), dpi=DPI)\n",
    "gs = GridSpec(1, 3, width_ratios=[1, -0.3, 1]) \n",
    "\n",
    "# First subplot\n",
    "ax1 = fig.add_subplot(gs[0, 0])\n",
    "ax1.axis('off')\n",
    "X = np.linspace(0, 1, x_pixels)\n",
    "Y = np.linspace(0, 1, y_pixels)\n",
    "c = ax1.pcolormesh(X, Y, data1, cmap='cividis')\n",
    "cividis = plt.get_cmap('cividis')\n",
    "spin_up_color = cividis(1.0)\n",
    "spin_down_color = cividis(0.0)\n",
    "legend_elements = [\n",
    "    Patch(facecolor=spin_up_color, edgecolor='none', label='Spin Up'),\n",
    "    Patch(facecolor=spin_down_color, edgecolor='none', label='Spin Down')\n",
    "]\n",
    "fig.legend(handles=legend_elements, loc='lower center', ncol=2, fontsize=10, frameon=False, bbox_to_anchor=(0.232, -0.15))\n",
    "\n",
    "# Second subplot\n",
    "ax2 = fig.add_subplot(gs[0, 2]) \n",
    "ax2.axhline(0, color='black', linestyle='--', linewidth=0.5, alpha=0.3)\n",
    "ax2.axvline(0, color='black', linestyle='--', linewidth=0.5, alpha=0.3)\n",
    "ax2.scatter(data2.iloc[:, 0], data2.iloc[:, 1], c='b', s=2)\n",
    "ii = 150\n",
    "ax2.scatter(data2.iloc[ii, 0], data2.iloc[ii, 1], c='r', s=5)\n",
    "x_margin = 0.02 * (data2.iloc[:, 0].max() - data2.iloc[:, 0].min())\n",
    "y_margin = 0.02 * (data2.iloc[:, 1].max() - data2.iloc[:, 1].min())\n",
    "ax2.set_xlim(data2.iloc[:, 0].min() - x_margin, data2.iloc[:, 0].max() + x_margin)\n",
    "ax2.set_ylim(data2.iloc[:, 1].min() - y_margin, data2.iloc[:, 1].max() + y_margin)\n",
    "ax2.set_xlabel(r'External Magnetic Field', fontsize=10)\n",
    "ax2.set_ylabel(r'Lattice Magnetization', fontsize=10)\n",
    "ax2.text(0, 0, '(0,0)', fontsize=8, ha='center', va='center', color='black', alpha=1.0)\n",
    "ax2.set_xticks([])\n",
    "ax2.set_yticks([])\n",
    "\n",
    "plt.subplots_adjust(top=1, bottom=0, right=1, left=0, hspace=0, wspace=0.4)\n",
    "plt.margins(0, 0)\n",
    "plt.show()"
   ]
  },
  {
   "cell_type": "markdown",
   "id": "b908b53b",
   "metadata": {},
   "source": [
    "### Produce frames"
   ]
  },
  {
   "cell_type": "markdown",
   "id": "4ef6ae25",
   "metadata": {},
   "source": [
    "In interest of not making a long boring animation, I skip frames during the parts of the animatino where there is no transition between the spin majority being up or down. Without skipping frames, frame 0535 though 0585 and 1230 though 1275 are particularly interesting. Without skipping, the frames range from 0000 to 1399"
   ]
  },
  {
   "cell_type": "code",
   "execution_count": null,
   "id": "ab00c2e7",
   "metadata": {},
   "outputs": [],
   "source": [
    "def load_data(filepath):\n",
    "    return np.loadtxt(filepath, delimiter=',', usecols=range(x_pixels))\n",
    "\n",
    "def save_frame(data, data_index, frame_number, output_dir):\n",
    "    DPI = 100\n",
    "    x_pixels, y_pixels = data1.shape[1], data1.shape[0]\n",
    "    width_inch = x_pixels / DPI\n",
    "    height_inch = y_pixels / DPI\n",
    "\n",
    "    fig = plt.figure(figsize=(width_inch * 2 + 1, height_inch), dpi=DPI)\n",
    "    gs = GridSpec(1, 3, width_ratios=[1, -0.3, 1]) \n",
    "\n",
    "    # First subplot: data1 with no axes\n",
    "    ax1 = fig.add_subplot(gs[0, 0])\n",
    "    ax1.axis('off')\n",
    "    X = np.linspace(0, 1, x_pixels)\n",
    "    Y = np.linspace(0, 1, y_pixels)\n",
    "    c = ax1.pcolormesh(X, Y, data, cmap='cividis')\n",
    "    cividis = plt.get_cmap('cividis')\n",
    "    spin_up_color = cividis(1.0)\n",
    "    spin_down_color = cividis(0.0)\n",
    "    legend_elements = [\n",
    "        Patch(facecolor=spin_up_color, edgecolor='none', label='Spin Up'),\n",
    "        Patch(facecolor=spin_down_color, edgecolor='none', label='Spin Down')\n",
    "    ]\n",
    "    fig.legend(handles=legend_elements, loc='lower center', ncol=2, fontsize=10, frameon=False, bbox_to_anchor=(0.232, -0.15))\n",
    "\n",
    "    # Second subplot: scatter plot with data2 and axes\n",
    "    ax2 = fig.add_subplot(gs[0, 2]) \n",
    "    ax2.axhline(0, color='black', linestyle='--', linewidth=0.5, alpha=0.3)\n",
    "    ax2.axvline(0, color='black', linestyle='--', linewidth=0.5, alpha=0.3)\n",
    "    ax2.scatter(data2.iloc[:, 0], data2.iloc[:, 1], c='b', s=2)\n",
    "    ax2.scatter(data2.iloc[j, 0], data2.iloc[j, 1], c='r', s=5)\n",
    "    x_margin = 0.02 * (data2.iloc[:, 0].max() - data2.iloc[:, 0].min())\n",
    "    y_margin = 0.02 * (data2.iloc[:, 1].max() - data2.iloc[:, 1].min())\n",
    "    ax2.set_xlim(data2.iloc[:, 0].min() - x_margin, data2.iloc[:, 0].max() + x_margin)\n",
    "    ax2.set_ylim(data2.iloc[:, 1].min() - y_margin, data2.iloc[:, 1].max() + y_margin)\n",
    "    ax2.set_xlabel(r'External Magnetic Field', fontsize=10)\n",
    "    ax2.set_ylabel(r'Lattice Magnetization', fontsize=10)\n",
    "    ax2.text(0, 0, '(0,0)', fontsize=8, ha='center', va='center', color='black', alpha=1.0)\n",
    "    ax2.set_xticks([])\n",
    "    ax2.set_yticks([])\n",
    "\n",
    "    plt.subplots_adjust(top=1, bottom=0, right=1, left=0, hspace=0, wspace=0.4) \n",
    "    plt.margins(0, 0)\n",
    "    \n",
    "    filename = f'frame_{frame_number:04d}.png'\n",
    "    filepath = os.path.join(output_dir, filename)\n",
    "    fig.savefig(filepath, dpi=DPI, facecolor='white', edgecolor='white', bbox_inches='tight', format='png')\n",
    "    plt.close(fig)\n",
    "\n",
    "csv_dir = r'FILL_IN'\n",
    "output_dir = r'FILL_IN'\n",
    "if not os.path.exists(output_dir):\n",
    "    os.makedirs(output_dir)\n",
    "\n",
    "filenames = []\n",
    "indicies = []\n",
    "j = 0\n",
    "for i in range(350, 0, -1):\n",
    "    if (j % 5 == 0) or (535 <= j <= 585) or (1230 <= j <= 1275):\n",
    "        filenames.append(f'Ising_output_grid_up{(i * -0.001):.6f}.csv')\n",
    "        indicies.append(j)\n",
    "    j += 1\n",
    "for i in range(350):\n",
    "    if (j % 5 == 0) or (535 <= j <= 585) or (1230 <= j <= 1275):    \n",
    "        filenames.append(f'Ising_output_grid_up{(i * 0.001):.6f}.csv')\n",
    "        indicies.append(j)\n",
    "    j += 1\n",
    "for i in range(350, 0, -1):\n",
    "    if (j % 5 == 0) or (535 <= j <= 585) or (1230 <= j <= 1275):\n",
    "        filenames.append(f'Ising_output_grid_down{(i * 0.001):.6f}.csv')\n",
    "        indicies.append(j)\n",
    "    j += 1\n",
    "for i in range(350):\n",
    "    if (j % 5 == 0) or (535 <= j <= 585) or (1230 <= j <= 1275):\n",
    "        filenames.append(f'Ising_output_grid_down{-(i * 0.001):.6f}.csv')\n",
    "        indicies.append(j)\n",
    "    j += 1\n",
    "    \n",
    "for i, filename in enumerate(filenames):\n",
    "    filepath = os.path.join(csv_dir, filename)\n",
    "    if os.path.exists(filepath):\n",
    "        data = load_data(filepath)\n",
    "        j = indicies[i]\n",
    "        save_frame(data, j, i, output_dir)\n",
    "    else:\n",
    "        print(f\"File not found: {filepath}\")\n",
    "\n",
    "print(f'Saved frames to {output_dir}')"
   ]
  },
  {
   "cell_type": "markdown",
   "id": "ecaef74f",
   "metadata": {},
   "source": [
    "### Produce basic animation\n"
   ]
  },
  {
   "cell_type": "code",
   "execution_count": null,
   "id": "c9a7703e",
   "metadata": {
    "scrolled": true
   },
   "outputs": [],
   "source": [
    "frames_dir = r'FILL_IN'\n",
    "output_video_path = r'FILL_IN'\n",
    "fps = 10\n",
    "\n",
    "ffmpeg_command = [\n",
    "    'ffmpeg',\n",
    "    '-framerate', str(fps),\n",
    "    '-i', os.path.join(frames_dir, 'frame_%04d.png'),\n",
    "    '-c:v', 'libx265',\n",
    "    '-preset', 'veryslow',\n",
    "    '-crf', '0', # lower constant rate factor should be better quality\n",
    "    '-pix_fmt', 'yuv444p', # pixel format is interesting\n",
    "    '-vf', 'scale=1920:1080',\n",
    "    output_video_path\n",
    "]\n",
    "subprocess.run(ffmpeg_command, check=True)\n",
    "\n",
    "print(f'Video saved to {output_video_path}')"
   ]
  }
 ],
 "metadata": {
  "kernelspec": {
   "display_name": "Python 3 (ipykernel)",
   "language": "python",
   "name": "python3"
  },
  "language_info": {
   "codemirror_mode": {
    "name": "ipython",
    "version": 3
   },
   "file_extension": ".py",
   "mimetype": "text/x-python",
   "name": "python",
   "nbconvert_exporter": "python",
   "pygments_lexer": "ipython3",
   "version": "3.11.7"
  }
 },
 "nbformat": 4,
 "nbformat_minor": 5
}
